{
 "cells": [
  {
   "cell_type": "code",
   "execution_count": 1,
   "id": "bd37fd83",
   "metadata": {},
   "outputs": [
    {
     "name": "stdout",
     "output_type": "stream",
     "text": [
      "Preprocessed input tensor shape: (3, 224, 224, 1)\n"
     ]
    }
   ],
   "source": [
    "import numpy as np\n",
    "from sklearn.preprocessing import MinMaxScaler\n",
    "from skimage.transform import resize\n",
    "\n",
    "# Load the 3D spectrogram tensor (replace this with your data loading code)\n",
    "# spectrogram_tensor = np.load('path_to_3d_spectrogram.npy')\n",
    "file_path = 'D:/3d_spectrogram.npy'\n",
    "numpy_array = np.load(file_path)\n",
    "spectrogram_tensor = numpy_array.shape\n",
    "\n",
    "# Convert the tuple to a NumPy array\n",
    "spectrogram_tensor = np.array(spectrogram_tensor)\n",
    "\n",
    "# Step 1: Resize the data to (224, 224)\n",
    "resized_spectrogram_tensor = np.zeros((spectrogram_tensor.shape[0], 224, 224))\n",
    "for i in range(spectrogram_tensor.shape[0]):\n",
    "    resized_spectrogram_tensor[i] = resize(spectrogram_tensor[i], (224, 224))\n",
    "# Step 2: Normalize the data to [0, 1]\n",
    "scaler = MinMaxScaler()\n",
    "normalized_spectrogram_tensor = scaler.fit_transform(resized_spectrogram_tensor.reshape(-1, 224 * 224))\n",
    "normalized_spectrogram_tensor = normalized_spectrogram_tensor.reshape(resized_spectrogram_tensor.shape)\n",
    "\n",
    "# Step 3: Convert 3D tensor to 4D tensor\n",
    "input_tensor_vgg16 = normalized_spectrogram_tensor[..., np.newaxis]\n",
    "\n",
    "print(\"Preprocessed input tensor shape:\", input_tensor_vgg16.shape)\n",
    "\n",
    "# Save the tensor to a file\n",
    "output_file_path = \"D:/input_tensor_vgg16.npy\"\n",
    "np.save(output_file_path, input_tensor_vgg16)\n",
    "\n",
    "print(\"Tensor saved successfully.\")\n"
   ]
  },
  {
   "cell_type": "code",
   "execution_count": null,
   "id": "57b55c8e",
   "metadata": {},
   "outputs": [],
   "source": []
  }
 ],
 "metadata": {
  "kernelspec": {
   "display_name": "Python 3 (ipykernel)",
   "language": "python",
   "name": "python3"
  },
  "language_info": {
   "codemirror_mode": {
    "name": "ipython",
    "version": 3
   },
   "file_extension": ".py",
   "mimetype": "text/x-python",
   "name": "python",
   "nbconvert_exporter": "python",
   "pygments_lexer": "ipython3",
   "version": "3.10.9"
  }
 },
 "nbformat": 4,
 "nbformat_minor": 5
}
