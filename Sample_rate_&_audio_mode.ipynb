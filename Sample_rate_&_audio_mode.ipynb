{
 "cells": [
  {
   "cell_type": "code",
   "execution_count": 1,
   "id": "a1b91766",
   "metadata": {},
   "outputs": [],
   "source": [
    "import numpy as np\n",
    "from scipy.io.wavfile import read\n",
    "import matplotlib.pyplot as plt"
   ]
  },
  {
   "cell_type": "code",
   "execution_count": 3,
   "id": "12c44008",
   "metadata": {},
   "outputs": [
    {
     "name": "stderr",
     "output_type": "stream",
     "text": [
      "C:\\Users\\User\\AppData\\Local\\Temp\\ipykernel_16604\\1789988377.py:2: WavFileWarning: Chunk (non-data) not understood, skipping it.\n",
      "  Fs,data=read(file_name)\n"
     ]
    },
    {
     "name": "stdout",
     "output_type": "stream",
     "text": [
      "[=] Sampling rate 48000 Hz\n",
      "[=] Mono channel\n",
      "<class 'numpy.ndarray'>\n"
     ]
    }
   ],
   "source": [
    "file_name='D:/Actor_01/03-01-02-02-02-02-01.wav'\n",
    "Fs,data=read(file_name)\n",
    "\n",
    "print('[=] Sampling rate {} Hz'.format(Fs))\n",
    "\n",
    "if len(data.shape)==2:\n",
    "    print('[=] Stereo channel')\n",
    "elif len(data.shape)==1:\n",
    "    print('[=] Mono channel')\n",
    "print(type(data))"
   ]
  },
  {
   "cell_type": "code",
   "execution_count": null,
   "id": "defd1160",
   "metadata": {},
   "outputs": [],
   "source": []
  }
 ],
 "metadata": {
  "kernelspec": {
   "display_name": "Python 3 (ipykernel)",
   "language": "python",
   "name": "python3"
  },
  "language_info": {
   "codemirror_mode": {
    "name": "ipython",
    "version": 3
   },
   "file_extension": ".py",
   "mimetype": "text/x-python",
   "name": "python",
   "nbconvert_exporter": "python",
   "pygments_lexer": "ipython3",
   "version": "3.10.9"
  }
 },
 "nbformat": 4,
 "nbformat_minor": 5
}
