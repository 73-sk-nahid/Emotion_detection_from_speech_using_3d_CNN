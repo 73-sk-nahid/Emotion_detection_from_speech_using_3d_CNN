{
 "cells": [
  {
   "cell_type": "code",
   "execution_count": 1,
   "id": "5216ef45",
   "metadata": {},
   "outputs": [
    {
     "name": "stderr",
     "output_type": "stream",
     "text": [
      "C:\\Users\\User\\AppData\\Local\\Temp\\ipykernel_8552\\1293618511.py:16: DeprecationWarning: `magic(...)` is deprecated since IPython 0.13 (warning added in 8.1), use run_line_magic(magic_name, parameter_s).\n",
      "  get_ipython().magic('matplotlib inline')\n"
     ]
    },
    {
     "data": {
      "text/plain": [
       "45"
      ]
     },
     "execution_count": 1,
     "metadata": {},
     "output_type": "execute_result"
    }
   ],
   "source": [
    "import os\n",
    "import glob\n",
    "from tqdm import tqdm\n",
    "import pandas as pd\n",
    "import numpy as np\n",
    "import matplotlib.pyplot as plt\n",
    "from scipy.io import wavfile\n",
    "from python_speech_features import mfcc , logfbank\n",
    "import librosa as lr\n",
    "import os, glob, pickle\n",
    "import librosa\n",
    "from scipy import signal\n",
    "import noisereduce as nr\n",
    "from glob import glob\n",
    "import librosa\n",
    "get_ipython().magic('matplotlib inline')\n",
    "#Loading the required RAVDESS DataSet with length of 1439 Audio Files \n",
    "os.listdir(path='D:/Actor_01')\n",
    "def getListOfFiles(dirName):\n",
    "    listOfFile=os.listdir(dirName)\n",
    "    allFiles=list()\n",
    "    for entry in listOfFile:\n",
    "        fullPath=os.path.join(dirName, entry)\n",
    "        if os.path.isdir(fullPath):\n",
    "            allFiles=allFiles + getListOfFiles(fullPath)\n",
    "        else:\n",
    "            allFiles.append(fullPath)\n",
    "    return allFiles\n",
    "dirName = 'D:/Actor_01'\n",
    "listOfFiles = getListOfFiles(dirName)\n",
    "len(listOfFiles)"
   ]
  },
  {
   "cell_type": "code",
   "execution_count": 2,
   "id": "fbb2e2e5",
   "metadata": {},
   "outputs": [
    {
     "name": "stdout",
     "output_type": "stream",
     "text": [
      "error\n",
      "Bharat Abhiyan se\n",
      "heart\n",
      "Amazon Tamil\n",
      "Hamen Jaanta memory\n",
      "Amazon\n",
      "error\n",
      "error\n",
      "Manu Kumar\n",
      "Bharat Gas\n",
      "Bharat results\n",
      "Bharat result\n",
      "error\n",
      "Amazon Prime Minister of\n",
      "Janata Mein unke sath\n",
      "Pokemon\n",
      "error\n",
      "error\n",
      "Bharat\n",
      "Bharat\n",
      "error\n",
      "Amazon Prime Minister\n",
      "error\n",
      "Amazon Amazon\n",
      "error\n",
      "error\n",
      "error\n",
      "Bharat music\n",
      "Maruti Suzuki se\n",
      "Biotech AC\n",
      "Amazon Prime\n",
      "Amazon Tamil\n",
      "Amazon\n",
      "Pokemon Fire\n",
      "error\n",
      "error\n",
      "barota videos\n",
      "Bharat Gas\n",
      "Bangladeshi\n",
      "Jaan Tumhen Unki suhagin\n",
      "Hamen Jaanta Nahin Ki Sawari\n",
      "Hamen Jaanta Nahin sorry\n",
      "error\n",
      "AK main Uphar\n",
      "Akon Uphar\n"
     ]
    }
   ],
   "source": [
    "#Use the Speech-Recognition API to get the Raw Text from Audio Files, Though Speech Recognition\n",
    "#is less strong for large chunk of files , so used Error Handling , where when it is not be able to \n",
    "#produce the text of a particular Audio File it prints the statement 'error'.Just for understanding Audio\n",
    "import speech_recognition as sr\n",
    "r=sr.Recognizer()\n",
    "for file in range(0 , len(listOfFiles) , 1):\n",
    "    with sr.AudioFile(listOfFiles[file]) as source:\n",
    "        audio = r.listen(source)\n",
    "        try:\n",
    "            text = r.recognize_google(audio)\n",
    "            print(text)\n",
    "        except:\n",
    "            print('error')"
   ]
  },
  {
   "cell_type": "code",
   "execution_count": null,
   "id": "a2ca9ef1",
   "metadata": {},
   "outputs": [],
   "source": []
  }
 ],
 "metadata": {
  "kernelspec": {
   "display_name": "Python 3 (ipykernel)",
   "language": "python",
   "name": "python3"
  },
  "language_info": {
   "codemirror_mode": {
    "name": "ipython",
    "version": 3
   },
   "file_extension": ".py",
   "mimetype": "text/x-python",
   "name": "python",
   "nbconvert_exporter": "python",
   "pygments_lexer": "ipython3",
   "version": "3.10.9"
  }
 },
 "nbformat": 4,
 "nbformat_minor": 5
}
